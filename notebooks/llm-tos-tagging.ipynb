{
 "cells": [
  {
   "cell_type": "code",
   "execution_count": 1,
   "metadata": {},
   "outputs": [],
   "source": [
    "import os\n",
    "\n",
    "# set env var\n",
    "os.environ[\"OPENAI_API_KEY\"] = \"your-api-key\""
   ]
  },
  {
   "cell_type": "code",
   "execution_count": 2,
   "metadata": {},
   "outputs": [],
   "source": [
    "from typing import List, Dict, Any, Optional, Literal\n",
    "\n",
    "from langchain.pydantic_v1 import Field, BaseModel\n",
    "from langchain.chains.openai_functions import (\n",
    "    create_openai_fn_chain,\n",
    "    create_openai_fn_runnable,\n",
    "    create_structured_output_chain,\n",
    "    create_structured_output_runnable,\n",
    ")\n",
    "from langchain.chat_models import ChatOpenAI\n",
    "from langchain.prompts import ChatPromptTemplate"
   ]
  },
  {
   "cell_type": "code",
   "execution_count": 138,
   "metadata": {},
   "outputs": [],
   "source": [
    "class Clause(BaseModel):\n",
    "    \"\"\"Unfair clause extracted from the input document\"\"\"\n",
    "    text: str = Field(None, description=\"Literal text of the clause extracted from the input document\")\n",
    "    unfairness: int = Field(..., choices=[1, 2, 3], description=\"The level of the clause: 1 clearly fair, 2 potentially unfair, 3 clearly unfair\")\n",
    "\n",
    "class UnfairClauses(BaseModel):\n",
    "    \"\"\"List of unfair clauses extracted from the input document\"\"\"\n",
    "    clauses: List[Clause] = Field(None, description=\"List of unfair clauses extracted from the input document\")\n"
   ]
  },
  {
   "cell_type": "code",
   "execution_count": 139,
   "metadata": {},
   "outputs": [],
   "source": [
    "j_system_prompt = \"\"\"\n",
    "You are a lawyer and you are reviewing online Terms of Service in search of Jurisdiction clauses.\n",
    "Jurisdictions clauses stipulate what courts will have the competence to adjudicate disputes under the contract.\n",
    "Follow this instructions carefully:\n",
    "- Identify all jurisdiction clauses in the given ToS.\n",
    "- Mark jurisdiction clauses giving consumers a right to bring disputes in their place of residence were marked as clearly fair (1).\n",
    "- Mark as clauses stating that any judicial proceeding takes place in a diferent city, country, etc. as clearly unfair (3).\n",
    "- Mark only the minimun amount of text necessary to understand the clause.\n",
    "\"\"\"\n",
    "\n",
    "law_system_prompt = \"\"\"\n",
    "You are a lawyer and you are reviewing online Terms of Service in search of Choice of Law clauses.\n",
    "Choice of law This clause specifes what law will govern the contract, meaning also what law will be applied in potential adjudication of a dispute arising.\n",
    "Follow this instructions carefully:\n",
    "- Identify all choice of law clauses in the given ToS.\n",
    "- Mark clauses defining the applicable law as the law of the consumer’s country of residence as clearly fair (1), everything else as potentially unfair (2).\n",
    "- Mark only the minimun amount of text necessary to understand the clause.\n",
    "\"\"\"\n",
    "\n",
    "ltd_system_prompt = \"\"\"\n",
    "You are a lawyer and you are reviewing online Terms of Service in search of Limitation of Liability clauses (LTD).\n",
    "Limitation of liability This clause stipulates that the duty to pay damages is limited or excluded, for certain kinds of losses and under certain conditions.\n",
    "Follow this instructions carefully:\n",
    "- Identify all choice of law clauses in the given ToS.\n",
    "- Mark clauses that explicitly afirm non-excludable providers’ liabilities as clearly fair (1).\n",
    "- Mark clauses that reduce, limit, or exclude the liability of the service provider for physical injuries, intentional damages as well as in case of gross negligence as clearly unfair (3).\n",
    "- Mark the rest of clauses that limmit somehow the liability of the service provider as potentially unfair (2).\n",
    "- Mark only the minimun amount of text necessary to understand the clause.\n",
    "\"\"\"\n",
    "\n",
    "ch_system_prompt = \"\"\"\n",
    "You are a lawyer and you are reviewing online Terms of Service in search of Unilateral Change clauses\n",
    "Unilateral change clauses specifies the conditions under which the service provider could amend and modify the terms of service and/or the service itself.\n",
    "Follow this instructions carefully:\n",
    "- Identify all unilateral change clauses in the given ToS.\n",
    "- Mark all clauses of this kind as potentially unfair (2).\n",
    "\"\"\"\n",
    "\n",
    "ter_system_prompt = \"\"\"\n",
    "You are a lawyer and you are reviewing online Terms of Service in search of Termination clauses.\n",
    "Termination clauses gives provider the right to suspend and/or terminate the service and/or the contract, and sometimes details the circumstances under which the provider claims to have a right to do so.\n",
    "Follow this instructions carefully:\n",
    "- Identify all termination clauses in the given ToS.\n",
    "- Mark all clauses that do not specify reasons for termination as clearly unfair (2).\n",
    "- Mark all clauses stipulating that the service provider may suspend or terminate the service at any time for any or no reasons and/or without notice as clearly unfair (3).\n",
    "- Mark only the minimun amount of text necessary to understand the clause.\n",
    "\"\"\"\n",
    "\n",
    "use_system_prompt = \"\"\"\n",
    "You are a lawyer and you are reviewing online Terms of Service in search of Contract by Using clauses.\n",
    "Contract by using clauses stipulates that the consumer is bound by the terms of use of a specifc service, simply by using the service, without even being required to mark that he or she has read and accepted them.\n",
    "Follow this instructions carefully:\n",
    "- Identify all contract by using clauses in the given ToS.\n",
    "- Mark all clauses of this kind as potentially unfair (2).\n",
    "- Mark only the minimun amount of text necessary to understand the clause.\n",
    "\"\"\"\n",
    "\n",
    "cr2_system_prompt = \"\"\"\n",
    "You are a lawyer and you are reviewing online Terms of Service in search of Content Removal clauses.\n",
    "Content removal clauses gives the provider a right to modify/delete user’s content, including in-app purchases, and sometimes specifes the conditions under which the service provider may do so.\n",
    "Follow this instructions carefully:\n",
    "- Identify all content removal clauses in the given ToS.\n",
    "- Mark all clauses that indicate conditions for content removal as potentially unfair (2).\n",
    "- Mark all clauses that stipulate that the service provider may remove content in his full discretion, and/or at any time for any or no reasons and/or without notice nor possibility to retrieve the content as clearly unfair (3).\n",
    "- Mark only the minimun amount of text necessary to understand the clause.\n",
    "\"\"\"\n",
    "\n",
    "a_system_prompt = \"\"\"\n",
    "You are a lawyer and you are reviewing online Terms of Service in search of Arbitration clauses.\n",
    "Arbitration clauses requires or allows the parties to resolve their disputes through an arbitration process, before the case could go to court.\n",
    "Follow this instructions carefully:\n",
    "- Identify all arbitration clauses in the given ToS.\n",
    "- Mark clauses defining arbitration as fully optional as clearly fair (1).\n",
    "- Mark clauses not defining clearly if the arbitration is optional or mandatory as potentially unfair (2).\n",
    "- Mark clauses stipulating that the arbitration should take place in a state other than the state of consumer’s residence and/or be based not on law but on arbiter’s discretion as clearly unfair (3).\n",
    "- Mark only the minimun amount of text necessary to understand the clause.\n",
    "\"\"\""
   ]
  },
  {
   "cell_type": "code",
   "execution_count": 140,
   "metadata": {},
   "outputs": [],
   "source": [
    "llm = ChatOpenAI(model=\"gpt-4-0125-preview\", temperature=0)\n",
    "\n",
    "prompt = ChatPromptTemplate.from_messages([\n",
    "    (\"system\", ltd_system_prompt),\n",
    "    (\"human\", '\"\"\"{input}\"\"\"')\n",
    "])\n",
    "\n",
    "chain = create_structured_output_chain(UnfairClauses, llm, prompt, verbose=False)"
   ]
  },
  {
   "cell_type": "code",
   "execution_count": 141,
   "metadata": {},
   "outputs": [],
   "source": [
    "result = chain.invoke(github_tos)"
   ]
  },
  {
   "cell_type": "code",
   "execution_count": 142,
   "metadata": {},
   "outputs": [
    {
     "name": "stdout",
     "output_type": "stream",
     "text": [
      "2\n",
      "In no event will either party be liable for indirect, incidental, special, punitive, or consequential damages, or loss of use, loss of profits, or interruption of business; however, caused or on any theory of liability.\n",
      "1\n",
      "No limitation or exclusions will apply to liability arising out of either party’s (1) confidentiality obligations unrelated to Customer Content; (2) defense obligations above; or (3) violation of the other party’s intellectual property rights.\n"
     ]
    }
   ],
   "source": [
    "for clause in result[\"function\"].clauses:\n",
    "    print(clause.unfairness)\n",
    "    print(clause.text)"
   ]
  },
  {
   "cell_type": "code",
   "execution_count": null,
   "metadata": {},
   "outputs": [],
   "source": []
  },
  {
   "cell_type": "code",
   "execution_count": null,
   "metadata": {},
   "outputs": [],
   "source": []
  }
 ],
 "metadata": {
  "kernelspec": {
   "display_name": "base",
   "language": "python",
   "name": "python3"
  },
  "language_info": {
   "codemirror_mode": {
    "name": "ipython",
    "version": 3
   },
   "file_extension": ".py",
   "mimetype": "text/x-python",
   "name": "python",
   "nbconvert_exporter": "python",
   "pygments_lexer": "ipython3",
   "version": "3.11.4"
  }
 },
 "nbformat": 4,
 "nbformat_minor": 2
}
